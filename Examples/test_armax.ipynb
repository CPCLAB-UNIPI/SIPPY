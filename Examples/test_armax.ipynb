{
 "cells": [
  {
   "cell_type": "code",
   "execution_count": null,
   "metadata": {
    "execution": {
     "iopub.execute_input": "2025-02-19T16:42:39.838750Z",
     "iopub.status.busy": "2025-02-19T16:42:39.838512Z",
     "iopub.status.idle": "2025-02-19T16:42:41.327085Z",
     "shell.execute_reply": "2025-02-19T16:42:41.326778Z"
    }
   },
   "outputs": [],
   "source": [
    "import control.matlab as cnt\n",
    "import numpy as np\n",
    "from matplotlib import rcParams\n",
    "from utils import create_output_dir, plot_bode, plot_response, plot_responses\n",
    "\n",
    "from sippy import functionset as fset\n",
    "from sippy import system_identification\n",
    "\n",
    "rcParams[\"figure.figsize\"] = (9.0, 5.0)\n",
    "output_dir = create_output_dir(\"test_armax.ipynb\")\n",
    "np.random.seed(0)"
   ]
  },
  {
   "cell_type": "markdown",
   "metadata": {},
   "source": [
    "## Define sampling time and Time vector"
   ]
  },
  {
   "cell_type": "code",
   "execution_count": null,
   "metadata": {
    "execution": {
     "iopub.execute_input": "2025-02-19T16:42:41.328167Z",
     "iopub.status.busy": "2025-02-19T16:42:41.328050Z",
     "iopub.status.idle": "2025-02-19T16:42:41.331088Z",
     "shell.execute_reply": "2025-02-19T16:42:41.330871Z"
    }
   },
   "outputs": [],
   "source": [
    "sampling_time = 1  # [s]\n",
    "end_time = 400  # [s]\n",
    "npts = end_time // sampling_time + 1\n",
    "Time = np.linspace(0, end_time, npts)"
   ]
  },
  {
   "cell_type": "markdown",
   "metadata": {},
   "source": [
    "## Define pseudo random binary sequence as input signal and white noise as noise signal"
   ]
  },
  {
   "cell_type": "code",
   "execution_count": null,
   "metadata": {
    "execution": {
     "iopub.execute_input": "2025-02-19T16:42:41.331872Z",
     "iopub.status.busy": "2025-02-19T16:42:41.331795Z",
     "iopub.status.idle": "2025-02-19T16:42:41.335930Z",
     "shell.execute_reply": "2025-02-19T16:42:41.335702Z"
    }
   },
   "outputs": [],
   "source": [
    "# make input signal\n",
    "switch_probability = 0.08  # [0..1]\n",
    "Usim, _, _ = fset.GBN_seq(npts, switch_probability)\n",
    "\n",
    "# make noise for input signal\n",
    "white_noise_variance = [0.005]\n",
    "e_t = fset.white_noise_var(Usim.size, white_noise_variance)[0]"
   ]
  },
  {
   "cell_type": "markdown",
   "metadata": {},
   "source": [
    "## Define the system"
   ]
  },
  {
   "cell_type": "markdown",
   "metadata": {},
   "source": [
    "### Numerator of noise transfer function has only one root: nc = 1"
   ]
  },
  {
   "cell_type": "code",
   "execution_count": null,
   "metadata": {
    "execution": {
     "iopub.execute_input": "2025-02-19T16:42:41.336682Z",
     "iopub.status.busy": "2025-02-19T16:42:41.336609Z",
     "iopub.status.idle": "2025-02-19T16:42:41.338960Z",
     "shell.execute_reply": "2025-02-19T16:42:41.338773Z"
    }
   },
   "outputs": [],
   "source": [
    "NUM_H = [\n",
    "    1.0,\n",
    "    0.3,\n",
    "    0.0,\n",
    "    0.0,\n",
    "    0.0,\n",
    "    0.0,\n",
    "    0.0,\n",
    "    0.0,\n",
    "    0.0,\n",
    "    0.0,\n",
    "    0.0,\n",
    "    0.0,\n",
    "    0.0,\n",
    "    0.0,\n",
    "    0.0,\n",
    "]"
   ]
  },
  {
   "cell_type": "markdown",
   "metadata": {},
   "source": [
    "### Common denominator between input and noise transfer functions has 4 roots: na = 4"
   ]
  },
  {
   "cell_type": "code",
   "execution_count": null,
   "metadata": {
    "execution": {
     "iopub.execute_input": "2025-02-19T16:42:41.339687Z",
     "iopub.status.busy": "2025-02-19T16:42:41.339623Z",
     "iopub.status.idle": "2025-02-19T16:42:41.341996Z",
     "shell.execute_reply": "2025-02-19T16:42:41.341781Z"
    }
   },
   "outputs": [],
   "source": [
    "DEN = [\n",
    "    1.0,\n",
    "    -2.21,\n",
    "    1.7494,\n",
    "    -0.584256,\n",
    "    0.0684029,\n",
    "    0.0,\n",
    "    0.0,\n",
    "    0.0,\n",
    "    0.0,\n",
    "    0.0,\n",
    "    0.0,\n",
    "    0.0,\n",
    "    0.0,\n",
    "    0.0,\n",
    "    0.0,\n",
    "]"
   ]
  },
  {
   "cell_type": "markdown",
   "metadata": {},
   "source": [
    "### Numerator of input transfer function has 3 roots: nb = 3"
   ]
  },
  {
   "cell_type": "code",
   "execution_count": null,
   "metadata": {
    "execution": {
     "iopub.execute_input": "2025-02-19T16:42:41.342625Z",
     "iopub.status.busy": "2025-02-19T16:42:41.342564Z",
     "iopub.status.idle": "2025-02-19T16:42:41.345015Z",
     "shell.execute_reply": "2025-02-19T16:42:41.344811Z"
    }
   },
   "outputs": [],
   "source": [
    "NUM = [1.0, -2.07, 1.3146]"
   ]
  },
  {
   "cell_type": "markdown",
   "metadata": {},
   "source": [
    "### Define transfer functions"
   ]
  },
  {
   "cell_type": "code",
   "execution_count": null,
   "metadata": {
    "execution": {
     "iopub.execute_input": "2025-02-19T16:42:41.345698Z",
     "iopub.status.busy": "2025-02-19T16:42:41.345636Z",
     "iopub.status.idle": "2025-02-19T16:42:41.352638Z",
     "shell.execute_reply": "2025-02-19T16:42:41.352450Z"
    },
    "scrolled": true
   },
   "outputs": [],
   "source": [
    "g_sample = cnt.tf(NUM, DEN, sampling_time)\n",
    "h_sample = cnt.tf(NUM_H, DEN, sampling_time)\n",
    "print(\"g()\")\n",
    "display(g_sample)\n",
    "print(\"h()\")\n",
    "display(h_sample)"
   ]
  },
  {
   "cell_type": "markdown",
   "metadata": {},
   "source": [
    "## Time responses"
   ]
  },
  {
   "cell_type": "markdown",
   "metadata": {},
   "source": [
    "### Input reponse"
   ]
  },
  {
   "cell_type": "code",
   "execution_count": null,
   "metadata": {
    "execution": {
     "iopub.execute_input": "2025-02-19T16:42:41.365416Z",
     "iopub.status.busy": "2025-02-19T16:42:41.365335Z",
     "iopub.status.idle": "2025-02-19T16:42:41.369878Z",
     "shell.execute_reply": "2025-02-19T16:42:41.369670Z"
    }
   },
   "outputs": [],
   "source": [
    "Y1, Time, Xsim = cnt.lsim(g_sample, Usim, Time)"
   ]
  },
  {
   "cell_type": "markdown",
   "metadata": {},
   "source": [
    "### Noise response"
   ]
  },
  {
   "cell_type": "code",
   "execution_count": null,
   "metadata": {
    "execution": {
     "iopub.execute_input": "2025-02-19T16:42:41.370539Z",
     "iopub.status.busy": "2025-02-19T16:42:41.370474Z",
     "iopub.status.idle": "2025-02-19T16:42:41.375033Z",
     "shell.execute_reply": "2025-02-19T16:42:41.374832Z"
    }
   },
   "outputs": [],
   "source": [
    "Y2, Time, Xsim = cnt.lsim(h_sample, e_t, Time)"
   ]
  },
  {
   "cell_type": "markdown",
   "metadata": {},
   "source": [
    "## Compute total output \n",
    "$$Y_t = Y_1 + Y_2 = G.u + H.e$$"
   ]
  },
  {
   "cell_type": "code",
   "execution_count": null,
   "metadata": {
    "execution": {
     "iopub.execute_input": "2025-02-19T16:42:41.375752Z",
     "iopub.status.busy": "2025-02-19T16:42:41.375688Z",
     "iopub.status.idle": "2025-02-19T16:42:41.377990Z",
     "shell.execute_reply": "2025-02-19T16:42:41.377790Z"
    }
   },
   "outputs": [],
   "source": [
    "Ytot = Y1 + Y2\n",
    "Utot = Usim + e_t"
   ]
  },
  {
   "cell_type": "code",
   "execution_count": null,
   "metadata": {
    "execution": {
     "iopub.execute_input": "2025-02-19T16:42:41.378595Z",
     "iopub.status.busy": "2025-02-19T16:42:41.378532Z",
     "iopub.status.idle": "2025-02-19T16:42:41.612187Z",
     "shell.execute_reply": "2025-02-19T16:42:41.611581Z"
    }
   },
   "outputs": [],
   "source": [
    "fig = plot_responses(\n",
    "    Time,\n",
    "    [Usim, e_t, Utot],\n",
    "    [Y1, Y2, Ytot],\n",
    "    [\"u\", \"e\", [\"u\", \"e\"]],\n",
    ")\n",
    "\n",
    "fig.savefig(output_dir + \"/responses.png\")"
   ]
  },
  {
   "cell_type": "markdown",
   "metadata": {},
   "source": [
    "## Perform system identification from collected data"
   ]
  },
  {
   "cell_type": "code",
   "execution_count": null,
   "metadata": {
    "execution": {
     "iopub.execute_input": "2025-02-19T16:42:41.614153Z",
     "iopub.status.busy": "2025-02-19T16:42:41.613952Z",
     "iopub.status.idle": "2025-02-19T16:42:41.628089Z",
     "shell.execute_reply": "2025-02-19T16:42:41.627637Z"
    },
    "scrolled": true
   },
   "outputs": [],
   "source": [
    "sys_id = system_identification(\n",
    "    Ytot,\n",
    "    Usim,\n",
    "    \"ARMAX\",\n",
    "    IC=\"BIC\",\n",
    "    na_ord=(2, 5),\n",
    "    nb_ord=(1, 5),\n",
    "    nc_ord=(0, 2),\n",
    "    delays=(10, 13),\n",
    "    max_iter=1000,\n",
    ")"
   ]
  },
  {
   "cell_type": "markdown",
   "metadata": {},
   "source": [
    "## Check that output of the identified system is consistent"
   ]
  },
  {
   "cell_type": "code",
   "execution_count": null,
   "metadata": {
    "execution": {
     "iopub.execute_input": "2025-02-19T16:42:41.629682Z",
     "iopub.status.busy": "2025-02-19T16:42:41.629588Z",
     "iopub.status.idle": "2025-02-19T16:42:41.637075Z",
     "shell.execute_reply": "2025-02-19T16:42:41.636681Z"
    }
   },
   "outputs": [],
   "source": [
    "Y_id1, Time, Xsim = cnt.lsim(sys_id.G, Usim, Time)\n",
    "Y_hid1, Time, Xsim = cnt.lsim(sys_id.H, e_t, Time)\n",
    "Y_idTot = Y_id1 + Y_hid1"
   ]
  },
  {
   "cell_type": "code",
   "execution_count": null,
   "metadata": {
    "execution": {
     "iopub.execute_input": "2025-02-19T16:42:41.638149Z",
     "iopub.status.busy": "2025-02-19T16:42:41.638057Z",
     "iopub.status.idle": "2025-02-19T16:42:41.776018Z",
     "shell.execute_reply": "2025-02-19T16:42:41.775696Z"
    }
   },
   "outputs": [],
   "source": [
    "fig = plot_response(\n",
    "    Time,\n",
    "    Usim,\n",
    "    [Ytot, Y_idTot],\n",
    "    legends=[[\"U\"], [\"system\", \"armax\"]],\n",
    "    titles=[\n",
    "        \"Input, identification data (Switch probability=0.08)\",\n",
    "        \"Output (identification data)\",\n",
    "    ],\n",
    ")\n",
    "fig.savefig(output_dir + \"/system_consistency.png\")"
   ]
  },
  {
   "cell_type": "markdown",
   "metadata": {},
   "source": [
    "# Validation of the identified system: \n",
    "## Generate new time series for input and noise"
   ]
  },
  {
   "cell_type": "code",
   "execution_count": null,
   "metadata": {
    "execution": {
     "iopub.execute_input": "2025-02-19T16:42:41.776970Z",
     "iopub.status.busy": "2025-02-19T16:42:41.776875Z",
     "iopub.status.idle": "2025-02-19T16:42:41.779987Z",
     "shell.execute_reply": "2025-02-19T16:42:41.779771Z"
    }
   },
   "outputs": [],
   "source": [
    "switch_probability = 0.07  # [0..1]\n",
    "input_range = [0.5, 1.5]\n",
    "U_valid, _, _ = fset.GBN_seq(npts, switch_probability, Range=input_range)\n",
    "white_noise_variance = [0.01]\n",
    "e_valid = fset.white_noise_var(U_valid.size, white_noise_variance)[0]"
   ]
  },
  {
   "cell_type": "markdown",
   "metadata": {},
   "source": [
    "## Compute time responses for true system with new inputs"
   ]
  },
  {
   "cell_type": "code",
   "execution_count": null,
   "metadata": {
    "execution": {
     "iopub.execute_input": "2025-02-19T16:42:41.780751Z",
     "iopub.status.busy": "2025-02-19T16:42:41.780678Z",
     "iopub.status.idle": "2025-02-19T16:42:41.786935Z",
     "shell.execute_reply": "2025-02-19T16:42:41.786724Z"
    }
   },
   "outputs": [],
   "source": [
    "Yvalid1, Time, Xsim = cnt.lsim(g_sample, U_valid, Time)\n",
    "Yvalid2, Time, Xsim = cnt.lsim(h_sample, e_valid, Time)\n",
    "Ytotvalid = Yvalid1 + Yvalid2"
   ]
  },
  {
   "cell_type": "markdown",
   "metadata": {},
   "source": [
    "## Compute time responses for identified system with new inputs"
   ]
  },
  {
   "cell_type": "code",
   "execution_count": null,
   "metadata": {
    "execution": {
     "iopub.execute_input": "2025-02-19T16:42:41.787647Z",
     "iopub.status.busy": "2025-02-19T16:42:41.787578Z",
     "iopub.status.idle": "2025-02-19T16:42:41.792946Z",
     "shell.execute_reply": "2025-02-19T16:42:41.792745Z"
    }
   },
   "outputs": [],
   "source": [
    "Yidvalid1, Time, Xsim = cnt.lsim(sys_id.G, U_valid, Time)\n",
    "Yidvalid2, Time, Xsim = cnt.lsim(sys_id.H, e_valid, Time)\n",
    "Yidtotvalid = Yidvalid1 + Yidvalid2"
   ]
  },
  {
   "cell_type": "markdown",
   "metadata": {},
   "source": [
    "## Check responses are almost equal"
   ]
  },
  {
   "cell_type": "code",
   "execution_count": null,
   "metadata": {
    "execution": {
     "iopub.execute_input": "2025-02-19T16:42:41.793693Z",
     "iopub.status.busy": "2025-02-19T16:42:41.793628Z",
     "iopub.status.idle": "2025-02-19T16:42:41.890096Z",
     "shell.execute_reply": "2025-02-19T16:42:41.889853Z"
    }
   },
   "outputs": [],
   "source": [
    "fig = plot_response(\n",
    "    Time,\n",
    "    Usim,\n",
    "    [Ytotvalid, Yidtotvalid],\n",
    "    legends=[[\"U\"], [\"system\", \"armax\"]],\n",
    "    titles=[\n",
    "        \"Input, identification data (Switch probability=0.07)\",\n",
    "        \"Output (identification data)\",\n",
    "    ],\n",
    ")\n",
    "fig.savefig(output_dir + \"/system_validation.png\")"
   ]
  },
  {
   "cell_type": "code",
   "execution_count": null,
   "metadata": {
    "execution": {
     "iopub.execute_input": "2025-02-19T16:42:41.890915Z",
     "iopub.status.busy": "2025-02-19T16:42:41.890839Z",
     "iopub.status.idle": "2025-02-19T16:42:42.944128Z",
     "shell.execute_reply": "2025-02-19T16:42:42.943869Z"
    }
   },
   "outputs": [],
   "source": [
    "W_V = np.logspace(-3, 4, num=701)\n",
    "for tf in [\"G\", \"H\"]:\n",
    "    syss_tfs = [\n",
    "        locals()[f\"{tf.lower()}_sample\"],\n",
    "        getattr(sys_id, tf),\n",
    "    ]\n",
    "    mags, fis, oms = zip(*[cnt.bode(sys, W_V) for sys in syss_tfs])\n",
    "\n",
    "    fig = plot_bode(\n",
    "        oms[0],\n",
    "        mags,\n",
    "        fis,\n",
    "        [\"system\"],\n",
    "    )\n",
    "    fig.savefig(output_dir + f\"/bode_{tf}.png\")"
   ]
  }
 ],
 "metadata": {
  "kernelspec": {
   "display_name": "",
   "language": "python",
   "name": ""
  },
  "language_info": {
   "codemirror_mode": {
    "name": "ipython",
    "version": 3
   },
   "file_extension": ".py",
   "mimetype": "text/x-python",
   "name": "python",
   "nbconvert_exporter": "python",
   "pygments_lexer": "ipython3",
   "version": "3.12.9"
  }
 },
 "nbformat": 4,
 "nbformat_minor": 2
}
