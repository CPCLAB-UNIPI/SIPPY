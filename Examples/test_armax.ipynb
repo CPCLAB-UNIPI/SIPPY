{
 "cells": [
  {
   "cell_type": "code",
   "execution_count": null,
   "metadata": {},
   "outputs": [],
   "source": [
    "import control.matlab as cnt\n",
    "import matplotlib.pyplot as plt\n",
    "import numpy as np\n",
    "from matplotlib import rcParams\n",
    "from tf2ss import lsim\n",
    "\n",
    "from sippy_unipi import functionset as fset\n",
    "from sippy_unipi import system_identification\n",
    "\n",
    "rcParams[\"figure.figsize\"] = (9.0, 5.0)"
   ]
  },
  {
   "cell_type": "markdown",
   "metadata": {},
   "source": [
    "## Define sampling time and Time vector"
   ]
  },
  {
   "cell_type": "code",
   "execution_count": null,
   "metadata": {},
   "outputs": [],
   "source": [
    "sampling_time = 1.0  # [s]\n",
    "end_time = 400  # [s]\n",
    "npts = int(end_time / sampling_time) + 1\n",
    "Time = np.linspace(0, end_time, npts)"
   ]
  },
  {
   "cell_type": "markdown",
   "metadata": {},
   "source": [
    "## Define pseudo random binary sequence as input signal and white noise as noise signal"
   ]
  },
  {
   "cell_type": "code",
   "execution_count": null,
   "metadata": {},
   "outputs": [],
   "source": [
    "# make input signal\n",
    "switch_probability = 0.08  # [0..1]\n",
    "Usim, _, _ = fset.GBN_seq(npts, switch_probability)\n",
    "\n",
    "# make noise for input signal\n",
    "white_noise_variance = [0.005]\n",
    "e_t = fset.white_noise_var(Usim.size, white_noise_variance)[0]"
   ]
  },
  {
   "cell_type": "markdown",
   "metadata": {},
   "source": [
    "## Define the system"
   ]
  },
  {
   "cell_type": "markdown",
   "metadata": {},
   "source": [
    "### Numerator of noise transfer function has only one root: nc = 1"
   ]
  },
  {
   "cell_type": "code",
   "execution_count": null,
   "metadata": {},
   "outputs": [],
   "source": [
    "NUM_H = [\n",
    "    1.0,\n",
    "    0.3,\n",
    "    0.0,\n",
    "    0.0,\n",
    "    0.0,\n",
    "    0.0,\n",
    "    0.0,\n",
    "    0.0,\n",
    "    0.0,\n",
    "    0.0,\n",
    "    0.0,\n",
    "    0.0,\n",
    "    0.0,\n",
    "    0.0,\n",
    "    0.0,\n",
    "]"
   ]
  },
  {
   "cell_type": "markdown",
   "metadata": {},
   "source": [
    "### Common denominator between input and noise transfer functions has 4 roots: na = 4"
   ]
  },
  {
   "cell_type": "code",
   "execution_count": null,
   "metadata": {},
   "outputs": [],
   "source": [
    "DEN = [\n",
    "    1.0,\n",
    "    -2.21,\n",
    "    1.7494,\n",
    "    -0.584256,\n",
    "    0.0684029,\n",
    "    0.0,\n",
    "    0.0,\n",
    "    0.0,\n",
    "    0.0,\n",
    "    0.0,\n",
    "    0.0,\n",
    "    0.0,\n",
    "    0.0,\n",
    "    0.0,\n",
    "    0.0,\n",
    "]"
   ]
  },
  {
   "cell_type": "markdown",
   "metadata": {},
   "source": [
    "### Numerator of input transfer function has 3 roots: nb = 3"
   ]
  },
  {
   "cell_type": "code",
   "execution_count": null,
   "metadata": {},
   "outputs": [],
   "source": [
    "NUM = [1.0, -2.07, 1.3146]"
   ]
  },
  {
   "cell_type": "markdown",
   "metadata": {},
   "source": [
    "### Define transfer functions"
   ]
  },
  {
   "cell_type": "code",
   "execution_count": null,
   "metadata": {
    "scrolled": true
   },
   "outputs": [],
   "source": [
    "g_sample = cnt.tf(NUM, DEN, sampling_time)\n",
    "h_sample = cnt.tf(NUM_H, DEN, sampling_time)\n",
    "print(\"g()\")\n",
    "display(g_sample)\n",
    "print(\"h()\")\n",
    "display(h_sample)"
   ]
  },
  {
   "cell_type": "markdown",
   "metadata": {},
   "source": [
    "## Time responses"
   ]
  },
  {
   "cell_type": "markdown",
   "metadata": {},
   "source": [
    "### Input reponse"
   ]
  },
  {
   "cell_type": "code",
   "execution_count": null,
   "metadata": {},
   "outputs": [],
   "source": [
    "Y1, Time, Xsim = lsim(g_sample, Usim, Time)\n",
    "plt.figure()\n",
    "plt.plot(Time, Usim, label=\"u(t)\")\n",
    "plt.plot(Time, Y1, label=\"y(t)\")\n",
    "plt.xlabel(\"Time\")\n",
    "plt.title(\"Time response y(t)=g*u(t)\")\n",
    "plt.legend()\n",
    "plt.grid()"
   ]
  },
  {
   "cell_type": "markdown",
   "metadata": {},
   "source": [
    "### Noise response"
   ]
  },
  {
   "cell_type": "code",
   "execution_count": null,
   "metadata": {},
   "outputs": [],
   "source": [
    "Y2, Time, Xsim = lsim(h_sample, e_t, Time)\n",
    "plt.figure()\n",
    "plt.plot(Time, e_t, label=\"e(t)\")\n",
    "plt.plot(Time, Y2, label=\"y(t)\")\n",
    "plt.xlabel(\"Time\")\n",
    "plt.title(\"Time response y(t)=h*e(t)\")\n",
    "plt.legend()\n",
    "plt.grid()"
   ]
  },
  {
   "cell_type": "markdown",
   "metadata": {},
   "source": [
    "## Compute total output \n",
    "$$Y_t = Y_1 + Y_2 = G.u + H.e$$"
   ]
  },
  {
   "cell_type": "code",
   "execution_count": null,
   "metadata": {},
   "outputs": [],
   "source": [
    "Ytot = Y1 + Y2\n",
    "Utot = Usim + e_t\n",
    "plt.figure()\n",
    "plt.plot(Time, Ytot, label=\"y_t(t)\")\n",
    "plt.plot(Time, Utot, label=\"u(t) + e(t)\")\n",
    "plt.xlabel(\"Time\")\n",
    "plt.title(\"Time response y_t(t)=g*u(t) + h*e(t)\")\n",
    "plt.legend()\n",
    "plt.grid()"
   ]
  },
  {
   "cell_type": "markdown",
   "metadata": {},
   "source": [
    "## Perform system identification from collected data"
   ]
  },
  {
   "cell_type": "code",
   "execution_count": null,
   "metadata": {
    "scrolled": true
   },
   "outputs": [],
   "source": [
    "Id_sys = system_identification(\n",
    "    Ytot,\n",
    "    Usim,\n",
    "    \"ARMAX\",\n",
    "    IC=\"BIC\",\n",
    "    na_ord=[2, 5],\n",
    "    nb_ord=[1, 5],\n",
    "    nc_ord=[0, 2],\n",
    "    delays=[10, 13],\n",
    "    max_iterations=1000,\n",
    ")"
   ]
  },
  {
   "cell_type": "markdown",
   "metadata": {},
   "source": [
    "## Check that output of the identified system is consistent"
   ]
  },
  {
   "cell_type": "code",
   "execution_count": null,
   "metadata": {},
   "outputs": [],
   "source": [
    "Y_id1, Time, Xsim = lsim(Id_sys.G, Usim, Time)\n",
    "Y_hid1, Time, Xsim = lsim(Id_sys.H, e_t, Time)\n",
    "Y_idTot = Y_id1 + Y_hid1"
   ]
  },
  {
   "cell_type": "code",
   "execution_count": null,
   "metadata": {},
   "outputs": [],
   "source": [
    "plt.figure(0)\n",
    "plt.plot(Time, Usim)\n",
    "plt.ylabel(\"Input GBN\")\n",
    "plt.xlabel(\"Time\")\n",
    "plt.title(\"Input, validation data (Switch probability=0.08)\")\n",
    "plt.grid()"
   ]
  },
  {
   "cell_type": "code",
   "execution_count": null,
   "metadata": {},
   "outputs": [],
   "source": [
    "plt.figure(1)\n",
    "plt.plot(Time, Ytot, label=\"Original system\")\n",
    "plt.plot(Time, Y_idTot, label=\"Identified system\")\n",
    "plt.grid()\n",
    "plt.xlabel(\"Time\")\n",
    "plt.ylabel(\"y_tot\")\n",
    "plt.title(\"Gu+He (identification data)\")\n",
    "plt.legend()"
   ]
  },
  {
   "cell_type": "code",
   "execution_count": null,
   "metadata": {},
   "outputs": [],
   "source": [
    "plt.figure(2)\n",
    "plt.plot(Time, Y1, label=\"Original system\")\n",
    "plt.plot(Time, Y_id1, label=\"Identified system\")\n",
    "plt.ylabel(\"y_out\")\n",
    "plt.grid()\n",
    "plt.xlabel(\"Time\")\n",
    "plt.legend()\n",
    "plt.title(\"Gu (identification data)\")"
   ]
  },
  {
   "cell_type": "code",
   "execution_count": null,
   "metadata": {},
   "outputs": [],
   "source": [
    "plt.figure(3)\n",
    "plt.plot(Time, Y2, label=\"Original system\")\n",
    "plt.plot(Time, Y_hid1, label=\"Identified system\")\n",
    "plt.ylabel(\"y_err\")\n",
    "plt.grid()\n",
    "plt.xlabel(\"Time\")\n",
    "plt.legend()\n",
    "plt.title(\"He (identification data)\")"
   ]
  },
  {
   "cell_type": "markdown",
   "metadata": {},
   "source": [
    "# Validation of the identified system: \n",
    "## Generate new time series for input and noise"
   ]
  },
  {
   "cell_type": "code",
   "execution_count": null,
   "metadata": {},
   "outputs": [],
   "source": [
    "switch_probability = 0.07  # [0..1]\n",
    "input_range = [0.5, 1.5]\n",
    "U_valid, _, _ = fset.GBN_seq(npts, switch_probability, Range=input_range)\n",
    "white_noise_variance = [0.01]\n",
    "e_valid = fset.white_noise_var(U_valid.size, white_noise_variance)[0]"
   ]
  },
  {
   "cell_type": "markdown",
   "metadata": {},
   "source": [
    "## Compute time responses for true system with new inputs"
   ]
  },
  {
   "cell_type": "code",
   "execution_count": null,
   "metadata": {},
   "outputs": [],
   "source": [
    "Yvalid1, Time, Xsim = lsim(g_sample, U_valid, Time)\n",
    "Yvalid2, Time, Xsim = lsim(h_sample, e_valid, Time)\n",
    "Ytotvalid = Yvalid1 + Yvalid2"
   ]
  },
  {
   "cell_type": "markdown",
   "metadata": {},
   "source": [
    "## Compute time responses for identified system with new inputs"
   ]
  },
  {
   "cell_type": "code",
   "execution_count": null,
   "metadata": {},
   "outputs": [],
   "source": [
    "Yidvalid1, Time, Xsim = lsim(Id_sys.G, U_valid, Time)\n",
    "Yidvalid2, Time, Xsim = lsim(Id_sys.H, e_valid, Time)\n",
    "Yidtotvalid = Yidvalid1 + Yidvalid2"
   ]
  },
  {
   "cell_type": "markdown",
   "metadata": {},
   "source": [
    "## Check responses are almost equal"
   ]
  },
  {
   "cell_type": "code",
   "execution_count": null,
   "metadata": {},
   "outputs": [],
   "source": [
    "plt.figure(4)\n",
    "plt.plot(Time, U_valid)\n",
    "plt.ylabel(\"Input GBN\")\n",
    "plt.xlabel(\"Time\")\n",
    "plt.title(\"Input, validation data (Switch probability=0.07)\")\n",
    "plt.grid()"
   ]
  },
  {
   "cell_type": "code",
   "execution_count": null,
   "metadata": {},
   "outputs": [],
   "source": [
    "plt.figure(5)\n",
    "plt.plot(Time, Ytotvalid)\n",
    "plt.plot(Time, Yidtotvalid)\n",
    "plt.xlabel(\"Time\")\n",
    "plt.ylabel(\"y_tot\")\n",
    "plt.legend([\"Original system\", \"Identified system\"])\n",
    "plt.grid()\n",
    "\n",
    "rmse = np.round(np.sqrt(np.mean((Ytotvalid - Yidtotvalid) ** 2)), 2)\n",
    "plt.title(f\"Validation: Gu+He | RMSE = {rmse}\")"
   ]
  },
  {
   "cell_type": "code",
   "execution_count": null,
   "metadata": {},
   "outputs": [],
   "source": [
    "plt.figure(6)\n",
    "plt.plot(Time, Yvalid1, label=\"Original system\")\n",
    "plt.plot(Time, Yidvalid1, label=\"Identified system\")\n",
    "plt.grid()\n",
    "plt.xlabel(\"Time\")\n",
    "plt.ylabel(\"y_out\")\n",
    "plt.title(\"Gu (Validation)\")\n",
    "plt.legend()"
   ]
  },
  {
   "cell_type": "code",
   "execution_count": null,
   "metadata": {},
   "outputs": [],
   "source": [
    "plt.figure(7)\n",
    "plt.plot(Time, Yvalid2, label=\"Original system\")\n",
    "plt.plot(Time, Yidvalid2, label=\"Identified system\")\n",
    "plt.grid()\n",
    "plt.xlabel(\"Time\")\n",
    "plt.ylabel(\"y_err\")\n",
    "plt.title(\"He (Validation)\")\n",
    "plt.legend()"
   ]
  },
  {
   "cell_type": "code",
   "execution_count": null,
   "metadata": {},
   "outputs": [],
   "source": [
    "print(\"Original h()\")\n",
    "display(h_sample)\n",
    "print(\"Identified h()\")\n",
    "display(Id_sys.H)\n",
    "\n",
    "plt.figure()\n",
    "_ = cnt.frequency_response([h_sample, Id_sys.H])"
   ]
  },
  {
   "cell_type": "code",
   "execution_count": null,
   "metadata": {},
   "outputs": [],
   "source": [
    "print(\"Original g()\")\n",
    "display(g_sample)\n",
    "print(\"Identified g()\")\n",
    "display(Id_sys.G)\n",
    "\n",
    "plt.figure()\n",
    "_ = cnt.frequency_response([g_sample, Id_sys.G])"
   ]
  }
 ],
 "metadata": {
  "kernelspec": {
   "display_name": "",
   "language": "python",
   "name": ""
  },
  "language_info": {
   "codemirror_mode": {
    "name": "ipython",
    "version": 3
   },
   "file_extension": ".py",
   "mimetype": "text/x-python",
   "name": "python",
   "nbconvert_exporter": "python",
   "pygments_lexer": "ipython3",
   "version": "3.12.10"
  }
 },
 "nbformat": 4,
 "nbformat_minor": 2
}
